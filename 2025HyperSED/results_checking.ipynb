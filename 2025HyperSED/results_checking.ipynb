{
 "cells": [
  {
   "cell_type": "code",
   "execution_count": 1,
   "id": "a7af7b48",
   "metadata": {
    "ExecuteTime": {
     "end_time": "2025-05-19T08:21:02.138713Z",
     "start_time": "2025-05-19T08:21:02.134192Z"
    }
   },
   "outputs": [],
   "source": [
    "import os\n",
    "import json"
   ]
  },
  {
   "cell_type": "code",
   "execution_count": 2,
   "id": "91a9d244",
   "metadata": {
    "ExecuteTime": {
     "end_time": "2025-05-19T08:21:02.404123Z",
     "start_time": "2025-05-19T08:21:02.401110Z"
    }
   },
   "outputs": [],
   "source": [
    "project_path = os.getcwd()"
   ]
  },
  {
   "cell_type": "code",
   "execution_count": 3,
   "id": "bf0f7f10",
   "metadata": {
    "ExecuteTime": {
     "end_time": "2025-05-19T08:21:02.672122Z",
     "start_time": "2025-05-19T08:21:02.666813Z"
    }
   },
   "outputs": [
    {
     "data": {
      "text/plain": [
       "'/Users/yuyongsheng/Library/CloudStorage/OneDrive-MacquarieUniversity/Desktop/GNN_Event_Detection_models/2025HyperSED'"
      ]
     },
     "execution_count": 3,
     "metadata": {},
     "output_type": "execute_result"
    }
   ],
   "source": [
    "project_path"
   ]
  },
  {
   "cell_type": "markdown",
   "id": "4b79392c",
   "metadata": {
    "ExecuteTime": {
     "end_time": "2025-05-19T08:18:03.194399Z",
     "start_time": "2025-05-19T08:18:03.191364Z"
    }
   },
   "source": [
    "## para_results"
   ]
  },
  {
   "cell_type": "code",
   "execution_count": 6,
   "id": "5762c7bd-1b67-43c4-987c-1cf4989041b8",
   "metadata": {},
   "outputs": [],
   "source": [
    "dataset_list = ['Event2012', 'Event2018', 'CrisisLex', 'Kawarith']"
   ]
  },
  {
   "cell_type": "code",
   "execution_count": 14,
   "id": "5bedba9c-0bca-4aba-94f6-5d9693573302",
   "metadata": {},
   "outputs": [
    {
     "name": "stdout",
     "output_type": "stream",
     "text": [
      "Event2012 dataset results:  [{'block_id': 0, 'nmi': 0.76, 'ami': 0.74, 'ari': 0.59}]\n",
      "Event2018 dataset results:  [{'block_id': 0, 'nmi': 0.55, 'ami': 0.54, 'ari': 0.6}]\n",
      "CrisisLex dataset results:  [{'block_id': 0, 'nmi': 0.17, 'ami': 0.17, 'ari': 0.08}]\n",
      "Kawarith dataset results:  [{'block_id': 0, 'nmi': 0.39, 'ami': 0.39, 'ari': 0.27}]\n"
     ]
    }
   ],
   "source": [
    "for dataset in dataset_list:\n",
    "    result_path = project_path + f'/results/para_results/{dataset}/open_set'\n",
    "    # Read JSON from a file\n",
    "    with open(os.path.join(result_path, 'hgae_dsi_pre_anchor.json'), 'r', encoding='utf-8') as f:\n",
    "        result = json.load(f)\n",
    "        # Now `data` is a Python dictionary (or list)\n",
    "        print(f'{dataset} dataset results: ', result['results'])"
   ]
  },
  {
   "cell_type": "markdown",
   "id": "895d0021",
   "metadata": {
    "ExecuteTime": {
     "end_time": "2025-05-19T08:21:44.019409Z",
     "start_time": "2025-05-19T08:21:44.016750Z"
    }
   },
   "source": [
    "## running time"
   ]
  },
  {
   "cell_type": "code",
   "execution_count": 57,
   "id": "8636de87-ef0b-47fa-af96-46e844492435",
   "metadata": {},
   "outputs": [],
   "source": [
    "from datetime import datetime, timedelta\n",
    "def compute_total_time(record, key_start, key_end):\n",
    "    t_start = datetime.strptime(record[key_start], '%H:%M:%S')\n",
    "    t_end = datetime.strptime(record[key_end], '%H:%M:%S')\n",
    "    diff = t_end - t_start\n",
    "    return diff"
   ]
  },
  {
   "cell_type": "code",
   "execution_count": 58,
   "id": "50e108ef-b8a0-4377-a654-560c3cf5ad6a",
   "metadata": {},
   "outputs": [
    {
     "data": {
      "text/plain": [
       "[{'t3': '19:04:36', 't4': '19:05:04'}]"
      ]
     },
     "execution_count": 58,
     "metadata": {},
     "output_type": "execute_result"
    }
   ],
   "source": [
    "running_time"
   ]
  },
  {
   "cell_type": "code",
   "execution_count": 59,
   "id": "f934feeb-db4a-42ae-8d87-b90642f25d31",
   "metadata": {
    "scrolled": true
   },
   "outputs": [
    {
     "data": {
      "text/plain": [
       "{'t1': '17:09:03', 't2': '17:09:15'}"
      ]
     },
     "execution_count": 59,
     "metadata": {},
     "output_type": "execute_result"
    }
   ],
   "source": [
    "graph_time[0]"
   ]
  },
  {
   "cell_type": "code",
   "execution_count": 62,
   "id": "e466df7e-b072-450b-a145-a87441528e23",
   "metadata": {},
   "outputs": [
    {
     "name": "stdout",
     "output_type": "stream",
     "text": [
      "Event2012\n",
      "graph time:  {'t1': '17:09:03', 't2': '17:09:15'}\n",
      "graph time diff:  0:00:12\n",
      "running time:  [{'t3': '18:12:19', 't4': '18:12:39'}]\n",
      "runnint time diff:  0:00:20\n",
      "Whole time:  0:00:32\n",
      "--------------------------------------------------\n",
      "Event2018\n",
      "graph time:  {'t1': '17:25:34', 't2': '17:27:12'}\n",
      "graph time diff:  0:01:38\n",
      "running time:  [{'t3': '17:41:55', 't4': '17:44:16'}]\n",
      "runnint time diff:  0:02:21\n",
      "Whole time:  0:03:59\n",
      "--------------------------------------------------\n",
      "CrisisLex\n",
      "graph time:  {'t1': '19:10:19', 't2': '19:26:15'}\n",
      "graph time diff:  0:15:56\n",
      "running time:  [{'t3': '19:35:01', 't4': '19:42:17'}]\n",
      "runnint time diff:  0:07:16\n",
      "Whole time:  0:23:12\n",
      "--------------------------------------------------\n",
      "Kawarith\n",
      "graph time:  {'t1': '19:02:21', 't2': '19:03:35'}\n",
      "graph time diff:  0:01:14\n",
      "running time:  [{'t3': '19:04:36', 't4': '19:05:04'}]\n",
      "runnint time diff:  0:00:28\n",
      "Whole time:  0:01:42\n",
      "--------------------------------------------------\n"
     ]
    }
   ],
   "source": [
    "for dataset in dataset_list:\n",
    "    print(dataset)\n",
    "    graph_time_path = project_path + f'/results/graph_times/{dataset}'\n",
    "    running_time_path = project_path + f'/results/running_times/{dataset}/open_set'\n",
    "    # Read JSON from a file\n",
    "    with open(os.path.join(graph_time_path, 'hypersed_open.json'), 'r', encoding='utf-8') as f:\n",
    "        graph_time = json.load(f)\n",
    "        diff_1 = compute_total_time(graph_time[0], 't1', 't2')\n",
    "        print('graph time: ', graph_time[0])\n",
    "        print('graph time diff: ', diff_1)\n",
    "    with open(os.path.join(running_time_path, 'hgae_dsi_pre_anchor.json'), 'r', encoding='utf-8') as f:\n",
    "        running_time = json.load(f)\n",
    "        diff_2 = compute_total_time(running_time[0], 't3', 't4')\n",
    "        print('running time: ', running_time)\n",
    "        print('runnint time diff: ', diff_2)\n",
    "    print('Whole time: ', diff_1 + diff_2)\n",
    "    print('-----' * 10)"
   ]
  },
  {
   "cell_type": "code",
   "execution_count": null,
   "id": "7ae7e2a6-d46a-4acc-9c47-928e8654e44e",
   "metadata": {},
   "outputs": [],
   "source": []
  },
  {
   "cell_type": "code",
   "execution_count": null,
   "id": "024d2820",
   "metadata": {},
   "outputs": [],
   "source": []
  },
  {
   "cell_type": "code",
   "execution_count": null,
   "id": "ad97d705-6c34-4b79-a39d-5f57c5d4a12f",
   "metadata": {},
   "outputs": [],
   "source": []
  }
 ],
 "metadata": {
  "kernelspec": {
   "display_name": "Python 3 (ipykernel)",
   "language": "python",
   "name": "python3"
  },
  "language_info": {
   "codemirror_mode": {
    "name": "ipython",
    "version": 3
   },
   "file_extension": ".py",
   "mimetype": "text/x-python",
   "name": "python",
   "nbconvert_exporter": "python",
   "pygments_lexer": "ipython3",
   "version": "3.12.4"
  },
  "toc": {
   "base_numbering": 1,
   "nav_menu": {},
   "number_sections": true,
   "sideBar": true,
   "skip_h1_title": false,
   "title_cell": "Table of Contents",
   "title_sidebar": "Contents",
   "toc_cell": false,
   "toc_position": {},
   "toc_section_display": true,
   "toc_window_display": true
  }
 },
 "nbformat": 4,
 "nbformat_minor": 5
}
